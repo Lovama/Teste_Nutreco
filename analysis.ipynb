{
 "cells": [
  {
   "cell_type": "code",
   "execution_count": 3,
   "metadata": {},
   "outputs": [],
   "source": [
    "import pandas as pd\n",
    "\n",
    "raw_producao = pd.read_excel('Teste – Estágio de Processos - rev01 (20241709).xlsx', sheet_name='Produção')\n",
    "raw_paradas = pd.read_excel('Teste – Estágio de Processos - rev01 (20241709).xlsx', sheet_name='Paradas')\n",
    "\n",
    "raw_producao.columns = ['Ano', 'Mes', 'Dia', 'Data', 'Hora Inicio', 'Hora Fim', 'Codigo do Item', 'Ordem de Producao',\n",
    "                       'Horas Totais', 'Horas Paradas', 'Horas Efetivas', 'kg', 't/h', 'Horas OE', 'Horas Disponiveis', 'Turno']\n",
    "\n",
    "raw_paradas.columns = ['Ano', 'Mes', 'Dia', 'Data', 'Codigo do Item', 'Ordem de Producao', 'Hora Inicio', 'Hora Fim', 'ID', 'Parada',\n",
    "                      'Tempo de Parada (decimal)', 'Tempo de Parada (hh:mm)', 'Turno', 'Equipamento', 'Fato', 'OE', 'Tipo de Parada']\n",
    "\n",
    "raw_producao['Data'] = pd.to_datetime(raw_producao['Data'])\n",
    "raw_paradas['Data'] = pd.to_datetime(raw_paradas['Data'])\n",
    "\n",
    "df_producao = raw_producao.copy()\n",
    "df_paradas = raw_paradas.copy()\n",
    "\n",
    "#Excluindo tempos de parada inferior a 4 minutos\n",
    "df_paradas['Tempo de Parada (hh:mm)'] = df_paradas['Tempo de Parada (hh:mm)'].astype(str)\n",
    "df_paradas['Tempo de Parada (hh:mm)'] = pd.to_timedelta(df_paradas['Tempo de Parada (hh:mm)'])\n",
    "df_paradas = df_paradas[df_paradas['Tempo de Parada (hh:mm)'] >= pd.Timedelta(minutes=4)]\n",
    "\n",
    "# Excluindo todos t/h maiores que 45 toneladas por hora\n",
    "df_producao = df_producao[df_producao['t/h'] < 45.1]"
   ]
  },
  {
   "cell_type": "code",
   "execution_count": 4,
   "metadata": {},
   "outputs": [
    {
     "name": "stdout",
     "output_type": "stream",
     "text": [
      "Tempo total de paradas OE: 1034.03 horas\n"
     ]
    }
   ],
   "source": [
    "# Filtrar paradas OE\n",
    "paradas_oe = df_paradas[df_paradas['OE'] == 'Sim']\n",
    "\n",
    "tempo_total_paradas_oe = paradas_oe['Tempo de Parada (decimal)'].sum()\n",
    "\n",
    "print(f\"Tempo total de paradas OE: {tempo_total_paradas_oe:.2f} horas\")"
   ]
  },
  {
   "cell_type": "code",
   "execution_count": 5,
   "metadata": {},
   "outputs": [
    {
     "name": "stdout",
     "output_type": "stream",
     "text": [
      "Média da eficiencia produtiva: 77.62%\n"
     ]
    }
   ],
   "source": [
    "# Calculando a eficiencia produtiva (horas efetivas / horas disponiveis)\n",
    "df_producao['Eficiencia Produtiva (%)'] = (df_producao['Horas Efetivas'] / df_producao['Horas Disponiveis']) * 100\n",
    "\n",
    "media_eficiencia = df_producao['Eficiencia Produtiva (%)'].mean()\n",
    "\n",
    "print(f\"Média da eficiencia produtiva: {media_eficiencia:.2f}%\")"
   ]
  },
  {
   "cell_type": "code",
   "execution_count": 6,
   "metadata": {},
   "outputs": [
    {
     "name": "stdout",
     "output_type": "stream",
     "text": [
      "Principais causas de paradas OE: \n",
      "\n",
      "Parada\n",
      "Silo de Ensaque Cheio            432\n",
      "Aguardando liberar silo          393\n",
      "Manutenção Mecânica Corretiva    359\n",
      "Produto de baixo rendimento      231\n",
      "Limpeza Programada               192\n",
      "Name: count, dtype: int64\n"
     ]
    }
   ],
   "source": [
    "# Contar as causas mais comuns de paradas OE\n",
    "principais_paradas_oe = paradas_oe['Parada'].value_counts().head(5)\n",
    "\n",
    "print(\"Principais causas de paradas OE: \\n\")\n",
    "print(principais_paradas_oe)"
   ]
  },
  {
   "cell_type": "code",
   "execution_count": 10,
   "metadata": {},
   "outputs": [
    {
     "name": "stdout",
     "output_type": "stream",
     "text": [
      "Equipamentos mais criticos com paradas OE:\n",
      "\n",
      "Equipamento\n",
      "MM-0301/MM-0302    105\n",
      "SI-0202             72\n",
      "EN0506              53\n",
      "Name: count, dtype: int64\n"
     ]
    }
   ],
   "source": [
    "# Analisando os equipamentos mais criticos\n",
    "equipamentos_criticos = paradas_oe['Equipamento'].value_counts().head(3)\n",
    "\n",
    "print(\"Equipamentos mais criticos com paradas OE:\\n\")\n",
    "print(equipamentos_criticos)\n",
    "\n",
    "# Sugestoes de melhorias baseadas nos equipamentos e causas de paradas mais frequentes\n",
    "sugestoes = \"\"\"\n",
    "Sugestões de Melhorias:\n",
    "1. Aumentar a manutencao preventiva nos equipamentos mais criticos, como CCM001 e TR0102.\n",
    "2. Implementar monitoramento em tempo real para detectar falhas antes que ocorram paradas OE prolongadas.\n",
    "3. De acordo com as principais causas de parada:\n",
    "    I.Silo de Ensaque Cheio:\n",
    "        Instalar sensores que avisem quando o silo esta quase cheio.\n",
    "    II.Aguardando Liberar Silo:\n",
    "        Definir quem eh responsavel pela liberacao e automatizar um pouco esse processo.\n",
    "    III.Manutenção Mecânica Corretiva:\n",
    "        Fazer manutencao preventiva, mas achar modos de prever quando for necessaria.\n",
    "    IV.Produto de Baixo Rendimento:\n",
    "        Rever a qualidade dos insumos\n",
    "    V.Limpzea Programada:\n",
    "        Ajustar o cronograma para momentos de menor movimento.\n",
    "    \n",
    "\"\"\"\n"
   ]
  },
  {
   "cell_type": "code",
   "execution_count": 11,
   "metadata": {},
   "outputs": [
    {
     "name": "stdout",
     "output_type": "stream",
     "text": [
      "\n",
      "Sugestões de Melhorias:\n",
      "De acordo com as principais causas de parada:\n",
      "    I.Silo de Ensaque Cheio:\n",
      "        Instalar sensores que avisem quando o silo esta quase cheio.\n",
      "    II.Aguardando Liberar Silo:\n",
      "        Definir quem eh responsavel pela liberacao e automatizar um pouco esse processo.\n",
      "    III.Manutenção Mecânica Corretiva:\n",
      "        Fazer manutencao preventiva, mas achar modos de prever quando for necessaria.\n",
      "    IV.Produto de Baixo Rendimento:\n",
      "        Rever a qualidade dos insumos\n",
      "    V.Limpzea Programada:\n",
      "        Ajustar o cronograma para momentos de menor movimento.\n",
      "    \n",
      "\n"
     ]
    }
   ],
   "source": [
    "# Sugestoes\n",
    "print(sugestoes)"
   ]
  },
  {
   "cell_type": "code",
   "execution_count": null,
   "metadata": {},
   "outputs": [],
   "source": []
  }
 ],
 "metadata": {
  "kernelspec": {
   "display_name": "Python 3",
   "language": "python",
   "name": "python3"
  },
  "language_info": {
   "codemirror_mode": {
    "name": "ipython",
    "version": 3
   },
   "file_extension": ".py",
   "mimetype": "text/x-python",
   "name": "python",
   "nbconvert_exporter": "python",
   "pygments_lexer": "ipython3",
   "version": "3.10.0"
  }
 },
 "nbformat": 4,
 "nbformat_minor": 2
}
